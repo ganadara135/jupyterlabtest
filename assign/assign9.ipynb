{
 "cells": [
  {
   "cell_type": "markdown",
   "id": "f859e5a3-21c5-4a9f-a7d4-8b9380319c99",
   "metadata": {},
   "source": [
    "연습문제 1번  H0: mu=175    H1: mu != 175"
   ]
  },
  {
   "cell_type": "code",
   "execution_count": 2,
   "id": "6af67024-6538-4a7d-9906-eda2a0243607",
   "metadata": {},
   "outputs": [
    {
     "name": "stdout",
     "output_type": "stream",
     "text": [
      "Collecting scipy\n",
      "  Downloading scipy-1.9.3-cp38-cp38-manylinux_2_17_x86_64.manylinux2014_x86_64.whl (33.8 MB)\n",
      "\u001b[K     |████████████████████████████████| 33.8 MB 14.9 MB/s eta 0:00:01\n",
      "\u001b[?25hRequirement already satisfied: numpy<1.26.0,>=1.18.5 in /home/ubuntu/knou/.venv/lib/python3.8/site-packages (from scipy) (1.23.3)\n",
      "Installing collected packages: scipy\n",
      "Successfully installed scipy-1.9.3\n"
     ]
    }
   ],
   "source": [
    "!pip install 'scipy'"
   ]
  },
  {
   "cell_type": "code",
   "execution_count": 3,
   "id": "6338ca0d-cc74-42b6-b790-686244b4b3e7",
   "metadata": {},
   "outputs": [
    {
     "data": {
      "text/html": [
       "<div>\n",
       "<style scoped>\n",
       "    .dataframe tbody tr th:only-of-type {\n",
       "        vertical-align: middle;\n",
       "    }\n",
       "\n",
       "    .dataframe tbody tr th {\n",
       "        vertical-align: top;\n",
       "    }\n",
       "\n",
       "    .dataframe thead th {\n",
       "        text-align: right;\n",
       "    }\n",
       "</style>\n",
       "<table border=\"1\" class=\"dataframe\">\n",
       "  <thead>\n",
       "    <tr style=\"text-align: right;\">\n",
       "      <th></th>\n",
       "      <th>id</th>\n",
       "      <th>height</th>\n",
       "    </tr>\n",
       "  </thead>\n",
       "  <tbody>\n",
       "    <tr>\n",
       "      <th>0</th>\n",
       "      <td>1</td>\n",
       "      <td>176.150339</td>\n",
       "    </tr>\n",
       "    <tr>\n",
       "      <th>1</th>\n",
       "      <td>2</td>\n",
       "      <td>180.178293</td>\n",
       "    </tr>\n",
       "    <tr>\n",
       "      <th>2</th>\n",
       "      <td>3</td>\n",
       "      <td>175.217694</td>\n",
       "    </tr>\n",
       "    <tr>\n",
       "      <th>3</th>\n",
       "      <td>4</td>\n",
       "      <td>180.038748</td>\n",
       "    </tr>\n",
       "    <tr>\n",
       "      <th>4</th>\n",
       "      <td>5</td>\n",
       "      <td>179.015688</td>\n",
       "    </tr>\n",
       "  </tbody>\n",
       "</table>\n",
       "</div>"
      ],
      "text/plain": [
       "   id      height\n",
       "0   1  176.150339\n",
       "1   2  180.178293\n",
       "2   3  175.217694\n",
       "3   4  180.038748\n",
       "4   5  179.015688"
      ]
     },
     "execution_count": 3,
     "metadata": {},
     "output_type": "execute_result"
    }
   ],
   "source": [
    "import pandas as pd\n",
    "import seaborn as sns\n",
    "from scipy import stats\n",
    "\n",
    "height = pd.read_csv(\"height.csv\")\n",
    "height.head()"
   ]
  },
  {
   "cell_type": "code",
   "execution_count": 4,
   "id": "b27dce4c-d024-4d27-a827-89be19d97b3e",
   "metadata": {},
   "outputs": [
    {
     "data": {
      "text/plain": [
       "<AxesSubplot: xlabel='height'>"
      ]
     },
     "execution_count": 4,
     "metadata": {},
     "output_type": "execute_result"
    },
    {
     "data": {
      "image/png": "[encoded data removed]",
      "text/plain": [
       "<Figure size 640x480 with 1 Axes>"
      ]
     },
     "metadata": {},
     "output_type": "display_data"
    }
   ],
   "source": [
    "sns.set(style=\"whitegrid\")\n",
    "sns.boxplot(x=\"height\", data=height)"
   ]
  },
  {
   "cell_type": "code",
   "execution_count": 6,
   "id": "9d67790d-a6bf-4bdc-a66f-9fb580c804ae",
   "metadata": {},
   "outputs": [
    {
     "name": "stdout",
     "output_type": "stream",
     "text": [
      "Ttest_1sampResult(statistic=23.347651861095777, pvalue=4.916009495893597e-82)\n",
      "23.347651861095777\n",
      "4.916009495893597e-82\n",
      "t-value = 23.348, p-value = 4.916009495893597e-82 \n"
     ]
    }
   ],
   "source": [
    "height_ttest = stats.ttest_1samp(height.height, 175)\n",
    "print (height_ttest)\n",
    "print (height_ttest[0]) # t-value 23.347651861095777\n",
    "print (height_ttest[1]) # p-value 4.916009495893597e-82\n",
    "print(\"t-value = %.3f, p-value = %s \" % height_ttest)"
   ]
  },
  {
   "cell_type": "markdown",
   "id": "654ac17e-23c9-47a4-b94a-9e3256ffa839",
   "metadata": {},
   "source": [
    "## < 0.05  : H0 귀무가설 기각하고  평균이 175cm 라고 할 수 없다. "
   ]
  },
  {
   "cell_type": "markdown",
   "id": "f0e7abda-c5c4-4cea-90c8-614f3ece8350",
   "metadata": {},
   "source": [
    "문제2번   카페인이 운동 중 호흡교환 비율(RER)에 영향을 미친다고 할 수 있는지 검정"
   ]
  },
  {
   "cell_type": "code",
   "execution_count": 10,
   "id": "b361b321-0a7c-46ac-a69a-badcd558aac9",
   "metadata": {},
   "outputs": [
    {
     "data": {
      "text/html": [
       "<div>\n",
       "<style scoped>\n",
       "    .dataframe tbody tr th:only-of-type {\n",
       "        vertical-align: middle;\n",
       "    }\n",
       "\n",
       "    .dataframe tbody tr th {\n",
       "        vertical-align: top;\n",
       "    }\n",
       "\n",
       "    .dataframe thead th {\n",
       "        text-align: right;\n",
       "    }\n",
       "</style>\n",
       "<table border=\"1\" class=\"dataframe\">\n",
       "  <thead>\n",
       "    <tr style=\"text-align: right;\">\n",
       "      <th></th>\n",
       "      <th>Placebo</th>\n",
       "      <th>Caffeine</th>\n",
       "    </tr>\n",
       "  </thead>\n",
       "  <tbody>\n",
       "    <tr>\n",
       "      <th>0</th>\n",
       "      <td>105</td>\n",
       "      <td>96</td>\n",
       "    </tr>\n",
       "    <tr>\n",
       "      <th>1</th>\n",
       "      <td>119</td>\n",
       "      <td>99</td>\n",
       "    </tr>\n",
       "    <tr>\n",
       "      <th>2</th>\n",
       "      <td>100</td>\n",
       "      <td>94</td>\n",
       "    </tr>\n",
       "    <tr>\n",
       "      <th>3</th>\n",
       "      <td>97</td>\n",
       "      <td>89</td>\n",
       "    </tr>\n",
       "    <tr>\n",
       "      <th>4</th>\n",
       "      <td>96</td>\n",
       "      <td>96</td>\n",
       "    </tr>\n",
       "    <tr>\n",
       "      <th>5</th>\n",
       "      <td>101</td>\n",
       "      <td>93</td>\n",
       "    </tr>\n",
       "    <tr>\n",
       "      <th>6</th>\n",
       "      <td>94</td>\n",
       "      <td>88</td>\n",
       "    </tr>\n",
       "    <tr>\n",
       "      <th>7</th>\n",
       "      <td>95</td>\n",
       "      <td>105</td>\n",
       "    </tr>\n",
       "    <tr>\n",
       "      <th>8</th>\n",
       "      <td>98</td>\n",
       "      <td>88</td>\n",
       "    </tr>\n",
       "  </tbody>\n",
       "</table>\n",
       "</div>"
      ],
      "text/plain": [
       "   Placebo  Caffeine\n",
       "0      105        96\n",
       "1      119        99\n",
       "2      100        94\n",
       "3       97        89\n",
       "4       96        96\n",
       "5      101        93\n",
       "6       94        88\n",
       "7       95       105\n",
       "8       98        88"
      ]
     },
     "execution_count": 10,
     "metadata": {},
     "output_type": "execute_result"
    }
   ],
   "source": [
    "import pandas as pd\n",
    "from scipy import stats\n",
    "myDf = pd.DataFrame({\"Placebo\":[105,119,100,97,96,101,94,95,98],\"Caffeine\":[96,99,94,89,96,93,88,105,88]})\n",
    "myDf"
   ]
  },
  {
   "cell_type": "code",
   "execution_count": 11,
   "id": "e4b0b3e9-1ce4-4147-b0c8-0c287f972032",
   "metadata": {},
   "outputs": [
    {
     "data": {
      "text/plain": [
       "BartlettResult(statistic=0.7443086706153629, pvalue=0.38828414344931017)"
      ]
     },
     "execution_count": 11,
     "metadata": {},
     "output_type": "execute_result"
    }
   ],
   "source": [
    "# 분산 동일성 검정 후 \n",
    "# 분산에 대한 검정\n",
    "stats.bartlett(myDf.Placebo, myDf.Caffeine)"
   ]
  },
  {
   "cell_type": "code",
   "execution_count": 13,
   "id": "0952e7d7-82c7-4bde-a911-b56ee6a8b664",
   "metadata": {},
   "outputs": [
    {
     "data": {
      "text/plain": [
       "LeveneResult(statistic=0.05302226935312828, pvalue=0.8208035887045854)"
      ]
     },
     "execution_count": 13,
     "metadata": {},
     "output_type": "execute_result"
    }
   ],
   "source": [
    "stats.levene(myDf.Placebo, myDf.Caffeine)"
   ]
  },
  {
   "cell_type": "markdown",
   "id": "ec19c76c-3e12-472d-9208-78089d252d4d",
   "metadata": {},
   "source": [
    "위 두 분산이 p-value > 0.05 보다 큼"
   ]
  },
  {
   "cell_type": "code",
   "execution_count": 15,
   "id": "8b25bc5f-34c7-4a7c-b2aa-bd99fcd2ebbb",
   "metadata": {},
   "outputs": [
    {
     "name": "stdout",
     "output_type": "stream",
     "text": [
      "Assuming equal variances : t-value = 1.995, p-value = 0.063 \n"
     ]
    }
   ],
   "source": [
    "data_pc_ttest = stats.ttest_ind(myDf.Placebo, myDf.Caffeine, equal_var=True)\n",
    "print(\"Assuming equal variances : t-value = %.3f, p-value = %.3f \" % data_pc_ttest)"
   ]
  },
  {
   "cell_type": "markdown",
   "id": "8ab2066d-fd76-4fbe-afd6-188ea826e518",
   "metadata": {},
   "source": [
    "> 0.05 유의수준 0.05에서 귀무가설을 채택한다. 카페인은 호흡교환비율(PER) 영향을 미친다고 볼 수 없다."
   ]
  }
 ],
 "metadata": {
  "kernelspec": {
   "display_name": "Python 3 (ipykernel)",
   "language": "python",
   "name": "python3"
  },
  "language_info": {
   "codemirror_mode": {
    "name": "ipython",
    "version": 3
   },
   "file_extension": ".py",
   "mimetype": "text/x-python",
   "name": "python",
   "nbconvert_exporter": "python",
   "pygments_lexer": "ipython3",
   "version": "3.8.10"
  }
 },
 "nbformat": 4,
 "nbformat_minor": 5
}
