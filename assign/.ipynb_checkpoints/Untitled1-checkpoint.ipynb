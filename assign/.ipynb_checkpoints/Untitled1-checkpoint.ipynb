{
 "cells": [
  {
   "cell_type": "markdown",
   "id": "770a7b53-41eb-47c0-b1f4-305c0d295076",
   "metadata": {},
   "source": [
    "\n",
    "1985 USDA 여성 영양 관련 자료. 25~50세의 연령에서 랜덤 선택된 737명 여성 영양자료\n",
    "dsdf\n",
    "\n",
    "변수는 다음과 같다"
   ]
  }
 ],
 "metadata": {
  "kernelspec": {
   "display_name": "Python 3 (ipykernel)",
   "language": "python",
   "name": "python3"
  },
  "language_info": {
   "codemirror_mode": {
    "name": "ipython",
    "version": 3
   },
   "file_extension": ".py",
   "mimetype": "text/x-python",
   "name": "python",
   "nbconvert_exporter": "python",
   "pygments_lexer": "ipython3",
   "version": "3.8.10"
  }
 },
 "nbformat": 4,
 "nbformat_minor": 5
}
